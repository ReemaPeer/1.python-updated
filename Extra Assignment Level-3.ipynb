{
 "cells": [
  {
   "cell_type": "code",
   "execution_count": 1,
   "id": "62180b3e",
   "metadata": {},
   "outputs": [
    {
     "name": "stdout",
     "output_type": "stream",
     "text": [
      "Value:10\n",
      "Correct\n"
     ]
    }
   ],
   "source": [
    "# Print Correct if i=10\n",
    "\n",
    "Value=int(input(\"Value:\"))\n",
    "\n",
    "if Value==10:\n",
    "    print(\"Correct\")"
   ]
  },
  {
   "cell_type": "code",
   "execution_count": 1,
   "id": "b8da86d7",
   "metadata": {},
   "outputs": [
    {
     "name": "stdout",
     "output_type": "stream",
     "text": [
      "Enter the Password: HOPE@123\n",
      "Your password is correct\n"
     ]
    }
   ],
   "source": [
    "# Check the password using if and else\n",
    "\n",
    "Password=input(\"Enter the Password: \")\n",
    "if (Password==\"HOPE@123\"):\n",
    "    print(\"Your password is correct\")\n",
    "else:\n",
    "    print(\"Your password is wromg\")\n",
    "    "
   ]
  },
  {
   "cell_type": "code",
   "execution_count": 3,
   "id": "f3782fa8",
   "metadata": {},
   "outputs": [
    {
     "name": "stdout",
     "output_type": "stream",
     "text": [
      "Age: 20\n",
      "Adult\n"
     ]
    }
   ],
   "source": [
    "Age = int(input(\"Age: \"))\n",
    "if (Age<18):\n",
    "    print(\"Children\")\n",
    "elif (Age<39):\n",
    "    print(\"Adult\")\n",
    "elif(Age<59) :\n",
    "    print(\"Citizen\")\n",
    "else:\n",
    "    print(\"Senior Citizen\")"
   ]
  },
  {
   "cell_type": "code",
   "execution_count": 1,
   "id": "c55a9495",
   "metadata": {},
   "outputs": [
    {
     "name": "stdout",
     "output_type": "stream",
     "text": [
      "Enter any Number: 1\n",
      "No. is negative\n"
     ]
    }
   ],
   "source": [
    "Num=int(input(\"Enter any Number: \"))\n",
    "\n",
    "if (Num%2==0):\n",
    "    print(\"No. is positive\")\n",
    "else:\n",
    "    print(\"No. is negative\")"
   ]
  },
  {
   "cell_type": "code",
   "execution_count": 2,
   "id": "6f2dd303",
   "metadata": {},
   "outputs": [
    {
     "name": "stdout",
     "output_type": "stream",
     "text": [
      "Enter any Number: 1\n",
      "No. is positive\n"
     ]
    }
   ],
   "source": [
    "Num=int(input(\"Enter any Number: \"))\n",
    "\n",
    "if (Num%2==0):\n",
    "    print(\"No. is negative\")\n",
    "else:\n",
    "    print(\"No. is positive\")"
   ]
  },
  {
   "cell_type": "code",
   "execution_count": 4,
   "id": "e0b2cf86",
   "metadata": {},
   "outputs": [
    {
     "name": "stdout",
     "output_type": "stream",
     "text": [
      "Enter a number to check: 22\n",
      "No. is not divisible by 5\n"
     ]
    }
   ],
   "source": [
    "Num=int(input(\"Enter a number to check: \"))\n",
    "\n",
    "if (Num%5==0):\n",
    "    print(\"No. is divisible by 5\")\n",
    "else:\n",
    "    print(\"No. is not divisible by 5\")"
   ]
  },
  {
   "cell_type": "code",
   "execution_count": null,
   "id": "a10a7084",
   "metadata": {},
   "outputs": [],
   "source": []
  }
 ],
 "metadata": {
  "kernelspec": {
   "display_name": "Python 3 (ipykernel)",
   "language": "python",
   "name": "python3"
  },
  "language_info": {
   "codemirror_mode": {
    "name": "ipython",
    "version": 3
   },
   "file_extension": ".py",
   "mimetype": "text/x-python",
   "name": "python",
   "nbconvert_exporter": "python",
   "pygments_lexer": "ipython3",
   "version": "3.11.4"
  }
 },
 "nbformat": 4,
 "nbformat_minor": 5
}
