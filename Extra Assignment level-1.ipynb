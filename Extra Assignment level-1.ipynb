{
 "cells": [
  {
   "cell_type": "code",
   "execution_count": 1,
   "id": "1377f0ec",
   "metadata": {},
   "outputs": [
    {
     "name": "stdout",
     "output_type": "stream",
     "text": [
      "HOPE AI\n"
     ]
    }
   ],
   "source": [
    "print(\"HOPE AI\")"
   ]
  },
  {
   "cell_type": "raw",
   "id": "c15063e0",
   "metadata": {},
   "source": []
  },
  {
   "cell_type": "code",
   "execution_count": 4,
   "id": "8fa3254c",
   "metadata": {},
   "outputs": [
    {
     "name": "stdout",
     "output_type": "stream",
     "text": [
      "Enter your Institute Name? : HOPE AI\n"
     ]
    }
   ],
   "source": [
    "InstituteName = input(\"Enter your Institute Name? : \")"
   ]
  },
  {
   "cell_type": "code",
   "execution_count": 1,
   "id": "e41b2f71",
   "metadata": {},
   "outputs": [
    {
     "name": "stdout",
     "output_type": "stream",
     "text": [
      "Enter your Name: Raj\n",
      "Enter your Age: 15\n",
      "Enter your School Name: Guru School\n",
      "Enter your Degree: B.E CSE\n"
     ]
    }
   ],
   "source": [
    "Name = input(\"Enter your Name: \")\n",
    "Age = input(\"Enter your Age: \")\n",
    "School = input(\"Enter your School Name: \")\n",
    "Degree = input(\"Enter your Degree: \")"
   ]
  },
  {
   "cell_type": "code",
   "execution_count": 2,
   "id": "486f9c15",
   "metadata": {},
   "outputs": [
    {
     "name": "stdout",
     "output_type": "stream",
     "text": [
      "a = 43\n",
      "b = 34\n",
      "add = 77\n"
     ]
    }
   ],
   "source": [
    "#Addition\n",
    "\n",
    "num1 = 43\n",
    "print(\"a =\",num1)\n",
    "num2 = 34\n",
    "print(\"b =\",num2)\n",
    "print(\"add =\",num1+num2)\n",
    "      \n"
   ]
  },
  {
   "cell_type": "code",
   "execution_count": 3,
   "id": "215b42a4",
   "metadata": {},
   "outputs": [
    {
     "name": "stdout",
     "output_type": "stream",
     "text": [
      "a = 43\n",
      "b = 34\n",
      "sub = 9\n"
     ]
    }
   ],
   "source": [
    "#Subtraction\n",
    "\n",
    "num1 = 43\n",
    "print(\"a =\",num1)\n",
    "num2 = 34\n",
    "print(\"b =\",num2)\n",
    "print(\"sub =\",num1-num2)"
   ]
  },
  {
   "cell_type": "code",
   "execution_count": 5,
   "id": "3a54f45e",
   "metadata": {},
   "outputs": [
    {
     "name": "stdout",
     "output_type": "stream",
     "text": [
      "a = 63\n",
      "b = 97\n",
      "Mul = 6111\n"
     ]
    }
   ],
   "source": [
    "# MUltiplication\n",
    "\n",
    "num1 = 63\n",
    "print(\"a =\",num1)\n",
    "num2 = 97\n",
    "print(\"b =\",num2)\n",
    "print(\"Mul =\",num1*num2)"
   ]
  },
  {
   "cell_type": "code",
   "execution_count": 6,
   "id": "ff5323f4",
   "metadata": {},
   "outputs": [
    {
     "name": "stdout",
     "output_type": "stream",
     "text": [
      "a = 76\n",
      "b = 31\n",
      "Float Div = 2.4516129032258065\n"
     ]
    }
   ],
   "source": [
    "#Division\n",
    "\n",
    "num1 = 76\n",
    "print(\"a =\",num1)\n",
    "num2 = 31\n",
    "print(\"b =\",num2)\n",
    "print(\"Float Div =\",num1/num2)"
   ]
  },
  {
   "cell_type": "code",
   "execution_count": 2,
   "id": "3e5457cc",
   "metadata": {},
   "outputs": [
    {
     "name": "stdout",
     "output_type": "stream",
     "text": [
      "a = 76\n",
      "b = 31\n",
      "Floor Div = 2\n"
     ]
    }
   ],
   "source": [
    "# Floor Division\n",
    "\n",
    "num1 = 76\n",
    "print(\"a =\",num1)\n",
    "num2 = 31\n",
    "print(\"b =\",num2)\n",
    "print(\"Floor Div =\",num1//num2)"
   ]
  },
  {
   "cell_type": "code",
   "execution_count": 4,
   "id": "10460f74",
   "metadata": {},
   "outputs": [
    {
     "name": "stdout",
     "output_type": "stream",
     "text": [
      "a = 76\n",
      "b = 31\n",
      "Modulo = 14\n"
     ]
    }
   ],
   "source": [
    "# Modulo\n",
    "\n",
    "num1 = 76\n",
    "print(\"a =\",num1)\n",
    "num2 = 31\n",
    "print(\"b =\",num2)\n",
    "print(\"Modulo =\",num1%num2)"
   ]
  },
  {
   "cell_type": "code",
   "execution_count": 6,
   "id": "a782b635",
   "metadata": {},
   "outputs": [
    {
     "name": "stdout",
     "output_type": "stream",
     "text": [
      "a = 4\n",
      "b = 4\n",
      "Power = 256\n"
     ]
    }
   ],
   "source": [
    "# Power\n",
    "\n",
    "num1 = 4\n",
    "print(\"a =\",num1)\n",
    "num2 = 4\n",
    "print(\"b =\",num2)\n",
    "print(\"Power =\",num1**num2)"
   ]
  },
  {
   "cell_type": "code",
   "execution_count": 1,
   "id": "9f82d449",
   "metadata": {},
   "outputs": [
    {
     "name": "stdout",
     "output_type": "stream",
     "text": [
      "a = 43\n",
      "b = 34\n",
      "add = 77\n"
     ]
    }
   ],
   "source": [
    "#Addition\n",
    "\n",
    "num1 = int(input(\"a = \")) \n",
    "num2 = int(input(\"b = \"))\n",
    "print(\"add =\",num1+num2)\n",
    "      "
   ]
  },
  {
   "cell_type": "code",
   "execution_count": 2,
   "id": "024a43ac",
   "metadata": {},
   "outputs": [
    {
     "name": "stdout",
     "output_type": "stream",
     "text": [
      "a = 43\n",
      "b = 34\n",
      "sub = 9\n"
     ]
    }
   ],
   "source": [
    "#Subtraction\n",
    "\n",
    "num1 = int(input(\"a = \")) \n",
    "num2 = int(input(\"b = \"))\n",
    "print(\"sub =\",num1-num2)"
   ]
  },
  {
   "cell_type": "code",
   "execution_count": 3,
   "id": "89c89669",
   "metadata": {},
   "outputs": [
    {
     "name": "stdout",
     "output_type": "stream",
     "text": [
      "a = 63\n",
      "b = 97\n",
      "Mul = 6111\n"
     ]
    }
   ],
   "source": [
    "# MUltiplication\n",
    "\n",
    "num1 = int(input(\"a = \")) \n",
    "num2 = int(input(\"b = \"))\n",
    "print(\"Mul =\",num1*num2)"
   ]
  },
  {
   "cell_type": "code",
   "execution_count": 4,
   "id": "041e1b88",
   "metadata": {},
   "outputs": [
    {
     "name": "stdout",
     "output_type": "stream",
     "text": [
      "a = 76\n",
      "b = 31\n",
      "Float Div = 2.4516129032258065\n"
     ]
    }
   ],
   "source": [
    "#Division\n",
    "\n",
    "num1 = int(input(\"a = \")) \n",
    "num2 = int(input(\"b = \"))\n",
    "print(\"Float Div =\",num1/num2)"
   ]
  },
  {
   "cell_type": "code",
   "execution_count": 5,
   "id": "b654958c",
   "metadata": {},
   "outputs": [
    {
     "name": "stdout",
     "output_type": "stream",
     "text": [
      "a = 76\n",
      "b = 31\n",
      "Modulo = 14\n"
     ]
    }
   ],
   "source": [
    "# Modulo\n",
    "\n",
    "num1 = int(input(\"a = \")) \n",
    "num2 = int(input(\"b = \"))\n",
    "print(\"Modulo =\",num1%num2)"
   ]
  },
  {
   "cell_type": "code",
   "execution_count": 6,
   "id": "b29cdaa7",
   "metadata": {},
   "outputs": [
    {
     "name": "stdout",
     "output_type": "stream",
     "text": [
      "a = 4\n",
      "b = 4\n",
      "Power = 256\n"
     ]
    }
   ],
   "source": [
    "# Power\n",
    "\n",
    "num1 = int(input(\"a = \")) \n",
    "num2 = int(input(\"b = \"))\n",
    "print(\"Power =\",num1**num2)"
   ]
  },
  {
   "cell_type": "code",
   "execution_count": null,
   "id": "f0dc1ad5",
   "metadata": {},
   "outputs": [],
   "source": []
  }
 ],
 "metadata": {
  "kernelspec": {
   "display_name": "Python 3 (ipykernel)",
   "language": "python",
   "name": "python3"
  },
  "language_info": {
   "codemirror_mode": {
    "name": "ipython",
    "version": 3
   },
   "file_extension": ".py",
   "mimetype": "text/x-python",
   "name": "python",
   "nbconvert_exporter": "python",
   "pygments_lexer": "ipython3",
   "version": "3.11.4"
  }
 },
 "nbformat": 4,
 "nbformat_minor": 5
}
